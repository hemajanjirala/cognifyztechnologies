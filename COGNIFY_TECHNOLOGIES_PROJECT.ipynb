{
  "nbformat": 4,
  "nbformat_minor": 0,
  "metadata": {
    "colab": {
      "provenance": [],
      "authorship_tag": "ABX9TyN+0/6aOYG1AwIgFdnkJygS",
      "include_colab_link": true
    },
    "kernelspec": {
      "name": "python3",
      "display_name": "Python 3"
    },
    "language_info": {
      "name": "python"
    }
  },
  "cells": [
    {
      "cell_type": "markdown",
      "metadata": {
        "id": "view-in-github",
        "colab_type": "text"
      },
      "source": [
        "<a href=\"https://colab.research.google.com/github/hemajanjirala/cognifyztechnologies/blob/main/COGNIFY_TECHNOLOGIES_PROJECT.ipynb\" target=\"_parent\"><img src=\"https://colab.research.google.com/assets/colab-badge.svg\" alt=\"Open In Colab\"/></a>"
      ]
    },
    {
      "cell_type": "code",
      "source": [
        "import pandas as pd\n",
        "import matplotlib.pyplot as plt\n",
        "import seaborn as sns\n",
        "import numpy as np"
      ],
      "metadata": {
        "id": "m5EZDzb__5UQ"
      },
      "execution_count": 2,
      "outputs": []
    },
    {
      "cell_type": "code",
      "source": [
        "file_path = ('/content/Dataset .csv')\n",
        "df = pd.read_csv(file_path)\n",
        "print(df.head())"
      ],
      "metadata": {
        "colab": {
          "base_uri": "https://localhost:8080/"
        },
        "id": "K1dwRFaDMA5y",
        "outputId": "0469e035-1bcc-4286-fd99-bc46a3cb3f01"
      },
      "execution_count": 3,
      "outputs": [
        {
          "output_type": "stream",
          "name": "stdout",
          "text": [
            "   Restaurant ID         Restaurant Name  Country Code              City  \\\n",
            "0        6317637        Le Petit Souffle           162       Makati City   \n",
            "1        6304287        Izakaya Kikufuji           162       Makati City   \n",
            "2        6300002  Heat - Edsa Shangri-La           162  Mandaluyong City   \n",
            "3        6318506                    Ooma           162  Mandaluyong City   \n",
            "4        6314302             Sambo Kojin           162  Mandaluyong City   \n",
            "\n",
            "                                             Address  \\\n",
            "0  Third Floor, Century City Mall, Kalayaan Avenu...   \n",
            "1  Little Tokyo, 2277 Chino Roces Avenue, Legaspi...   \n",
            "2  Edsa Shangri-La, 1 Garden Way, Ortigas, Mandal...   \n",
            "3  Third Floor, Mega Fashion Hall, SM Megamall, O...   \n",
            "4  Third Floor, Mega Atrium, SM Megamall, Ortigas...   \n",
            "\n",
            "                                     Locality  \\\n",
            "0   Century City Mall, Poblacion, Makati City   \n",
            "1  Little Tokyo, Legaspi Village, Makati City   \n",
            "2  Edsa Shangri-La, Ortigas, Mandaluyong City   \n",
            "3      SM Megamall, Ortigas, Mandaluyong City   \n",
            "4      SM Megamall, Ortigas, Mandaluyong City   \n",
            "\n",
            "                                    Locality Verbose   Longitude   Latitude  \\\n",
            "0  Century City Mall, Poblacion, Makati City, Mak...  121.027535  14.565443   \n",
            "1  Little Tokyo, Legaspi Village, Makati City, Ma...  121.014101  14.553708   \n",
            "2  Edsa Shangri-La, Ortigas, Mandaluyong City, Ma...  121.056831  14.581404   \n",
            "3  SM Megamall, Ortigas, Mandaluyong City, Mandal...  121.056475  14.585318   \n",
            "4  SM Megamall, Ortigas, Mandaluyong City, Mandal...  121.057508  14.584450   \n",
            "\n",
            "                           Cuisines  ...          Currency Has Table booking  \\\n",
            "0        French, Japanese, Desserts  ...  Botswana Pula(P)               Yes   \n",
            "1                          Japanese  ...  Botswana Pula(P)               Yes   \n",
            "2  Seafood, Asian, Filipino, Indian  ...  Botswana Pula(P)               Yes   \n",
            "3                   Japanese, Sushi  ...  Botswana Pula(P)                No   \n",
            "4                  Japanese, Korean  ...  Botswana Pula(P)               Yes   \n",
            "\n",
            "  Has Online delivery Is delivering now Switch to order menu Price range  \\\n",
            "0                  No                No                   No           3   \n",
            "1                  No                No                   No           3   \n",
            "2                  No                No                   No           4   \n",
            "3                  No                No                   No           4   \n",
            "4                  No                No                   No           4   \n",
            "\n",
            "   Aggregate rating  Rating color Rating text Votes  \n",
            "0               4.8    Dark Green   Excellent   314  \n",
            "1               4.5    Dark Green   Excellent   591  \n",
            "2               4.4         Green   Very Good   270  \n",
            "3               4.9    Dark Green   Excellent   365  \n",
            "4               4.8    Dark Green   Excellent   229  \n",
            "\n",
            "[5 rows x 21 columns]\n"
          ]
        }
      ]
    },
    {
      "cell_type": "code",
      "source": [
        "df.columns"
      ],
      "metadata": {
        "colab": {
          "base_uri": "https://localhost:8080/"
        },
        "id": "IQ_jqAoaPu-w",
        "outputId": "d5cd1b49-07bd-4295-8d38-4ef5e5748caa"
      },
      "execution_count": 4,
      "outputs": [
        {
          "output_type": "execute_result",
          "data": {
            "text/plain": [
              "Index(['Restaurant ID', 'Restaurant Name', 'Country Code', 'City', 'Address',\n",
              "       'Locality', 'Locality Verbose', 'Longitude', 'Latitude', 'Cuisines',\n",
              "       'Average Cost for two', 'Currency', 'Has Table booking',\n",
              "       'Has Online delivery', 'Is delivering now', 'Switch to order menu',\n",
              "       'Price range', 'Aggregate rating', 'Rating color', 'Rating text',\n",
              "       'Votes'],\n",
              "      dtype='object')"
            ]
          },
          "metadata": {},
          "execution_count": 4
        }
      ]
    },
    {
      "cell_type": "code",
      "source": [
        "df.shape"
      ],
      "metadata": {
        "colab": {
          "base_uri": "https://localhost:8080/"
        },
        "id": "EfYMVNX1QLHY",
        "outputId": "6f289e20-c727-4b4b-f516-ac7ba9c80011"
      },
      "execution_count": 5,
      "outputs": [
        {
          "output_type": "execute_result",
          "data": {
            "text/plain": [
              "(9551, 21)"
            ]
          },
          "metadata": {},
          "execution_count": 5
        }
      ]
    },
    {
      "cell_type": "code",
      "source": [
        "df.info()"
      ],
      "metadata": {
        "colab": {
          "base_uri": "https://localhost:8080/"
        },
        "id": "NZsiIUhuQUNx",
        "outputId": "ea1886b3-35d9-42ab-abb6-c6cc79116324"
      },
      "execution_count": 6,
      "outputs": [
        {
          "output_type": "stream",
          "name": "stdout",
          "text": [
            "<class 'pandas.core.frame.DataFrame'>\n",
            "RangeIndex: 9551 entries, 0 to 9550\n",
            "Data columns (total 21 columns):\n",
            " #   Column                Non-Null Count  Dtype  \n",
            "---  ------                --------------  -----  \n",
            " 0   Restaurant ID         9551 non-null   int64  \n",
            " 1   Restaurant Name       9551 non-null   object \n",
            " 2   Country Code          9551 non-null   int64  \n",
            " 3   City                  9551 non-null   object \n",
            " 4   Address               9551 non-null   object \n",
            " 5   Locality              9551 non-null   object \n",
            " 6   Locality Verbose      9551 non-null   object \n",
            " 7   Longitude             9551 non-null   float64\n",
            " 8   Latitude              9551 non-null   float64\n",
            " 9   Cuisines              9542 non-null   object \n",
            " 10  Average Cost for two  9551 non-null   int64  \n",
            " 11  Currency              9551 non-null   object \n",
            " 12  Has Table booking     9551 non-null   object \n",
            " 13  Has Online delivery   9551 non-null   object \n",
            " 14  Is delivering now     9551 non-null   object \n",
            " 15  Switch to order menu  9551 non-null   object \n",
            " 16  Price range           9551 non-null   int64  \n",
            " 17  Aggregate rating      9551 non-null   float64\n",
            " 18  Rating color          9551 non-null   object \n",
            " 19  Rating text           9551 non-null   object \n",
            " 20  Votes                 9551 non-null   int64  \n",
            "dtypes: float64(3), int64(5), object(13)\n",
            "memory usage: 1.5+ MB\n"
          ]
        }
      ]
    },
    {
      "cell_type": "code",
      "source": [
        "df.isnull().sum()"
      ],
      "metadata": {
        "colab": {
          "base_uri": "https://localhost:8080/"
        },
        "id": "dDDe0oglRW-I",
        "outputId": "f6261f1e-3008-4de6-a87a-b58ee0228809"
      },
      "execution_count": 9,
      "outputs": [
        {
          "output_type": "execute_result",
          "data": {
            "text/plain": [
              "Restaurant ID           0\n",
              "Restaurant Name         0\n",
              "Country Code            0\n",
              "City                    0\n",
              "Address                 0\n",
              "Locality                0\n",
              "Locality Verbose        0\n",
              "Longitude               0\n",
              "Latitude                0\n",
              "Cuisines                9\n",
              "Average Cost for two    0\n",
              "Currency                0\n",
              "Has Table booking       0\n",
              "Has Online delivery     0\n",
              "Is delivering now       0\n",
              "Switch to order menu    0\n",
              "Price range             0\n",
              "Aggregate rating        0\n",
              "Rating color            0\n",
              "Rating text             0\n",
              "Votes                   0\n",
              "dtype: int64"
            ]
          },
          "metadata": {},
          "execution_count": 9
        }
      ]
    },
    {
      "cell_type": "code",
      "source": [
        "level -1   Task 1"
      ],
      "metadata": {
        "id": "f--dktzJNDcm"
      },
      "execution_count": null,
      "outputs": []
    },
    {
      "cell_type": "code",
      "source": [
        "Determine the top three most comman cuisniness in the dataset.\n",
        "calculate the percentage of restaurant that serve each of the top cuisiness."
      ],
      "metadata": {
        "id": "lawtDKNPOH0s"
      },
      "execution_count": null,
      "outputs": []
    },
    {
      "cell_type": "code",
      "source": [
        "import pandas as pd\n",
        "\n",
        "cuisines = df['Cuisines']\n",
        "\n",
        "cuisine_counts = cuisines.value_counts()\n",
        "\n",
        "top_cuisines = cuisine_counts.index.sort_values(ascending=False)[:3]\n",
        "\n",
        "for cuisine in top_cuisines:\n",
        "    count = cuisine_counts[cuisine]\n",
        "    percentage = round((count/len(df)) * 100, 2)\n",
        "    print(f\"{cuisine}: {count} ({percentage}%)\")"
      ],
      "metadata": {
        "colab": {
          "base_uri": "https://localhost:8080/"
        },
        "id": "DpVH3TG5RKnY",
        "outputId": "46c42ea8-3ace-4092-9bd6-683d0becad23"
      },
      "execution_count": 8,
      "outputs": [
        {
          "output_type": "stream",
          "name": "stdout",
          "text": [
            "World Cuisine, Patisserie, Cafe: 1 (0.01%)\n",
            "World Cuisine, Mexican, Italian: 1 (0.01%)\n",
            "World Cuisine: 1 (0.01%)\n"
          ]
        }
      ]
    },
    {
      "cell_type": "markdown",
      "source": [
        "Here  are some the Analsis of the above:\n",
        "\n",
        "1. Import pandas for data analysis\n",
        "\n",
        "2. Extract 'Cuisines' column from the dataframe into a series to just get cuisine data\n",
        "\n",
        "3. Use .value_counts() to get the count of each unique cuisine value\n",
        "\n",
        "4. Sort the cuisine index in descending order and slice the top 3 cuisine indexes\n",
        "\n",
        "5. Iterate through the top 3 cuisine indexes\n",
        "\n",
        "6. Look up the count for each cuisine using the cuisine_counts series\n",
        "\n",
        "7. Calculate percentage by dividing cuisine count by total rows and format\n",
        "\n",
        "8. Print each cuisine name, its count and percentage rounded to 2 places\n",
        "\n",
        "Summary :\n",
        "\n",
        "1. Imports pandas\n",
        "2. Extracts relevant data\n",
        "3. Analyzes to get cuisine counts\n",
        "4. Sorts and slices top cuisines\n",
        "5. Iterates over top indexes\n",
        "6. Gets cuisine stats by index lookup\n",
        "7. Formats and prints results\n"
      ],
      "metadata": {
        "id": "MQjhDZr5YKOo"
      }
    },
    {
      "cell_type": "code",
      "source": [
        "Level- 1  Task- 2"
      ],
      "metadata": {
        "id": "VSMwQR5IRPqn"
      },
      "execution_count": null,
      "outputs": []
    },
    {
      "cell_type": "code",
      "source": [
        "Task:City Analysis\n",
        "Identify the city with the highest numberof restaurants in the dataset.Calculate the average rating for restaurants in each city.\n",
        "Determine the city with the highestaverage rating"
      ],
      "metadata": {
        "id": "m8mRMPrbRuUq"
      },
      "execution_count": null,
      "outputs": []
    },
    {
      "cell_type": "code",
      "source": [
        "import pandas as pd\n",
        "\n",
        "# Access city and rating columns\n",
        "city_data = df[['City', 'Aggregate rating']]\n",
        "\n",
        "# Get number of restaurants per city\n",
        "city_counts = city_data['City'].value_counts()\n",
        "\n",
        "# Find city with max restaurants\n",
        "top_city_by_count = city_counts.index[0]\n",
        "print(f\"City with most restaurants: {top_city_by_count}\")\n",
        "\n",
        "# Get mean rating per city\n",
        "city_ratings = city_data.groupby('City').agg({'Aggregate rating':'mean'})\n",
        "\n",
        "# Find city with highest average rating\n",
        "top_city_by_rating = city_ratings['Aggregate rating'].idxmax()\n",
        "print(f\"City with highest rating: {top_city_by_rating}\")"
      ],
      "metadata": {
        "colab": {
          "base_uri": "https://localhost:8080/"
        },
        "id": "Dzg2eJxJSE1B",
        "outputId": "0d7f9db0-4d75-4fc7-d922-64dc016b8758"
      },
      "execution_count": 11,
      "outputs": [
        {
          "output_type": "stream",
          "name": "stdout",
          "text": [
            "City with most restaurants: New Delhi\n",
            "City with highest rating: Inner City\n"
          ]
        }
      ]
    },
    {
      "cell_type": "markdown",
      "source": [
        "Here  are some Analsis of the above:\n",
        "\n",
        "1. Import Pandas - To enable useful data analysis methods.\n",
        "\n",
        "2. Extract relevant columns - Get the 'City' and 'Aggregate rating' columns into a separate dataframe 'city_data' to analyze.\n",
        "\n",
        "3. Count restaurants per city - Using the Series.value_counts() method to count number of restaurants per unique city.\n",
        "\n",
        "4. Get top city by count - Index 0 accesses city name with maximum restaurants from the value_counts() sorted output.\n",
        "\n",
        "5. Print top city name - Print city with most restaurant count\n",
        "\n",
        "6. Group by city and average rating - Using groupby() and aggregation, calculate mean rating per city.\n",
        "\n",
        "7. Get top ratings city - Using idxmax() get index/name of the city with highest 'Aggregate rating' mean value.  \n",
        "\n",
        "8. Print city name with highest rating\n",
        "\n",
        "Summary:\n",
        "\n",
        "In this, Pandas is used to slice relevant data, apply transformations like value_counts, groupby and aggregations like mean. Analytics outputs like index values access top records which are printed.\n",
        "\n"
      ],
      "metadata": {
        "id": "s8WcenJsXMj3"
      }
    },
    {
      "cell_type": "code",
      "source": [
        "Level -1 Task - 3"
      ],
      "metadata": {
        "id": "6ozVUl24SeEf"
      },
      "execution_count": null,
      "outputs": []
    },
    {
      "cell_type": "code",
      "source": [
        "Task : Price Range Distribution\n",
        "Create a histogram or bar chart tovisualize the distribution of price rangesamong the restaurants.\n",
        "Calculate the percentage of restaurantsin each price range category"
      ],
      "metadata": {
        "id": "5R3U1IGiTAsK"
      },
      "execution_count": null,
      "outputs": []
    },
    {
      "cell_type": "code",
      "source": [
        "import pandas as pd\n",
        "import matplotlib.pyplot as plt\n",
        "\n",
        "price_ranges = df['Price range']\n",
        "\n",
        "price_counts = price_ranges.value_counts()\n",
        "\n",
        "total_restaurants = len(price_ranges)\n",
        "price_percentages = (price_counts/total_restaurants) * 100\n",
        "\n",
        "fig, ax = plt.subplots()\n",
        "ax.bar(price_ranges.unique(), price_percentages)\n",
        "\n",
        "ax.set_xlabel(\"Price Ranges\")\n",
        "ax.set_ylabel(\"Percentage of Restaurants (%)\")\n",
        "\n",
        "for p in ax.patches:\n",
        "    ax.annotate(f'{p.get_height().round(2)}%',\n",
        "               (p.get_x()+0.15, p.get_height()+1), ha='center', va='bottom')\n",
        "\n",
        "plt.show()"
      ],
      "metadata": {
        "colab": {
          "base_uri": "https://localhost:8080/",
          "height": 453
        },
        "id": "WGNWBNvWTrAH",
        "outputId": "51c6fae0-ab2f-4ad1-fddb-46b37f7e09ae"
      },
      "execution_count": 14,
      "outputs": [
        {
          "output_type": "display_data",
          "data": {
            "text/plain": [
              "<Figure size 640x480 with 1 Axes>"
            ],
            "image/png": "[encoded data removed]"
          },
          "metadata": {}
        }
      ]
    },
    {
      "cell_type": "markdown",
      "source": [
        " From the above plot here are some  visualizations for the restaurant price range distribution:\n",
        "\n",
        "1. Import pandas and matplotlib - These libraries are used for data analysis and data visualization respectively.\n",
        "\n",
        "2. Extract price ranges - The 'Price range' column containing price range categories for each restaurant is extracted from the dataframe into a variable.\n",
        "\n",
        "3. Count price ranges - The .value_counts() method counts number of restaurants in each price range and stores in price_counts.\n",
        "\n",
        "4. Calculate percentages - For each price range, the percentage is calculated by dividing its count by total restaurants and multiplying by 100.\n",
        "\n",
        "5. Visualize distribution - A bar chart is plotted with the price ranges on x-axis and their percentages on y-axis. The percentages are also annotated on the bars for clarity.\n",
        "\n",
        "6. Customize plot - Figure title, axis labels, bar annotations are customized to explain this is showing the % distribution across price ranges.\n",
        "\n",
        "Summary:\n",
        "\n",
        "In this, it leverages pandas for data preparation, matpotlib for visualization, includes data extraction, analysis/calculations and custom plotting steps to effectively visualize and explain the restaurant price range distribution."
      ],
      "metadata": {
        "id": "bx35nRBZU52Y"
      }
    },
    {
      "cell_type": "code",
      "source": [
        "Level-1  Task -4"
      ],
      "metadata": {
        "id": "A4Ck2_oETv8h"
      },
      "execution_count": null,
      "outputs": []
    },
    {
      "cell_type": "code",
      "source": [
        "Task: Online Delivery\n",
        "Determine the percentage of restaurantsthat offer online delivery.\n",
        "Compare the average ratings of restaurantswith and without online delivery."
      ],
      "metadata": {
        "id": "qbRnji5VT93Q"
      },
      "execution_count": null,
      "outputs": []
    },
    {
      "cell_type": "code",
      "source": [
        "import pandas as pd\n",
        "\n",
        "# Get online delivery column\n",
        "delivery_df = df[['Has Online delivery','Aggregate rating']]\n",
        "\n",
        "# Calculate percentage with delivery\n",
        "num_have_delivery = (delivery_df['Has Online delivery'] == 'Yes').sum()\n",
        "percent_delivery = (num_have_delivery/len(delivery_df)) * 100\n",
        "print(f\"{percent_delivery:.2f}% have online delivery\")\n",
        "\n",
        "# Group by delivery and calculate avg rating\n",
        "delivery_ratings = delivery_df.groupby('Has Online delivery').agg({'Aggregate rating': 'mean'})\n",
        "\n",
        "print(\"\\nAverage Ratings:\")\n",
        "print(delivery_ratings)"
      ],
      "metadata": {
        "colab": {
          "base_uri": "https://localhost:8080/"
        },
        "id": "zNKIbUx_Ua_A",
        "outputId": "d5371c74-60bd-42d1-cf85-41f893a5e706"
      },
      "execution_count": 15,
      "outputs": [
        {
          "output_type": "stream",
          "name": "stdout",
          "text": [
            "25.66% have online delivery\n",
            "\n",
            "Average Ratings:\n",
            "                     Aggregate rating\n",
            "Has Online delivery                  \n",
            "No                           2.465296\n",
            "Yes                          3.248837\n"
          ]
        }
      ]
    },
    {
      "cell_type": "markdown",
      "source": [
        "\n",
        "\n",
        "This calculates:\n",
        "\n",
        "- Percent of all restaurants offering delivery\n",
        "- The overall average rating for restaurants with and without delivery\n",
        "\n",
        "This can help determine the benefit of delivery on ratings."
      ],
      "metadata": {
        "id": "RFO16vw3WU_B"
      }
    },
    {
      "cell_type": "code",
      "source": [
        "Level -2 Task - 1"
      ],
      "metadata": {
        "id": "MaNdvuxEWegQ"
      },
      "execution_count": null,
      "outputs": []
    },
    {
      "cell_type": "code",
      "source": [
        "Task: Restaurant Ratings\n",
        "Analyze the distribution of aggregate ratings and determine the most common rating range.\n",
        "Calculate the average number of votesreceived by restaurants."
      ],
      "metadata": {
        "id": "7IM3_28cZfyC"
      },
      "execution_count": null,
      "outputs": []
    },
    {
      "cell_type": "code",
      "source": [
        "import pandas as pd\n",
        "import matplotlib.pyplot as plt\n",
        "\n",
        "# Extract relevant columns\n",
        "ratings_df = df[['Aggregate rating', 'Votes']]\n",
        "\n",
        "# Get distribution of ratings\n",
        "rating_dist = ratings_df['Aggregate rating'].value_counts().sort_index()\n",
        "\n",
        "# Find most common rating range\n",
        "common_rating = rating_dist.idxmax()\n",
        "print(f\"Most common rating: {common_rating}\")\n",
        "\n",
        "# Plot distribution\n",
        "plt.bar(rating_dist.index, rating_dist.values)\n",
        "plt.xlabel(\"Rating\")\n",
        "plt.ylabel(\"Number of Restaurants\")\n",
        "plt.show()\n",
        "\n",
        "# Calculate average votes\n",
        "avg_votes = ratings_df['Votes'].mean()\n",
        "print(f\"Average votes: {avg_votes:.2f}\")"
      ],
      "metadata": {
        "colab": {
          "base_uri": "https://localhost:8080/",
          "height": 484
        },
        "id": "M3b4oS7PZwQR",
        "outputId": "97f9636c-91bc-4975-aa78-0c90abb397c7"
      },
      "execution_count": 16,
      "outputs": [
        {
          "output_type": "stream",
          "name": "stdout",
          "text": [
            "Most common rating: 0.0\n"
          ]
        },
        {
          "output_type": "display_data",
          "data": {
            "text/plain": [
              "<Figure size 640x480 with 1 Axes>"
            ],
            "image/png": "[encoded data removed]"
          },
          "metadata": {}
        },
        {
          "output_type": "stream",
          "name": "stdout",
          "text": [
            "Average votes: 156.91\n"
          ]
        }
      ]
    },
    {
      "cell_type": "markdown",
      "source": [
        "From the above plot here are some Analsis:\n",
        "\n",
        "\n",
        "1. Import pandas and matplotlib - To enable data analysis and visualizations\n",
        "\n",
        "2. Extract relevant columns - Create a subset dataframe with just 'Aggregate rating' and 'Votes' columns  \n",
        "\n",
        "3. Get rating distribution - Use pandas .value_counts() to get count of each rating value\n",
        "\n",
        "4. Sort distribution - Sort the rating distribution Series by index (rating value)\n",
        "\n",
        "5. Identify most common range - Get the index value (rating) with maximum number of restaurants  \n",
        "\n",
        "6. Print most common rating\n",
        "\n",
        "7. Visualize distribution - Use matplotlib to plot a bar chart with x-axis as ratings and y-axis as number of restaurants\n",
        "\n",
        "8. Enhance plot - Add x, y axis labels and chart titles  \n",
        "\n",
        "9. Calculate average votes - Get mean of the 'Votes' column using pandas .mean()\n",
        "\n",
        "10. Print average votes per restaurant\n",
        "\n",
        " Summary\n",
        "\n",
        "In summary, it uses pandas for data preparation, analysis and calculations while matplotlib handles the data visualization and plotting for explaining the rating distribution analysis."
      ],
      "metadata": {
        "id": "2fcSjIJwZ_-C"
      }
    },
    {
      "cell_type": "code",
      "source": [
        "Level - 2  Task - 2"
      ],
      "metadata": {
        "id": "vL3gXY3-Z2DD"
      },
      "execution_count": null,
      "outputs": []
    },
    {
      "cell_type": "code",
      "source": [
        "Task: Cuisine Combination\n",
        "Identify the most common combinations ofcuisines in the dataset.\n",
        "Determine if certain cuisine combinationstend to have higher ratings"
      ],
      "metadata": {
        "id": "xiwDg9CubXTq"
      },
      "execution_count": null,
      "outputs": []
    },
    {
      "cell_type": "code",
      "source": [
        "import pandas as pd\n",
        "\n",
        "cuisines = df['Cuisines'].fillna('') # fill na with empty string\n",
        "valid_cuisines = cuisines[cuisines != ''] # filter\n",
        "\n",
        "cuisine_combos = (valid_cuisines.str.split(',')\n",
        "                  .apply(sorted) # sort\n",
        "                  .apply(tuple)) # convert to tuple\n",
        "\n",
        "combo_counts = cuisine_combos.value_counts().head(10)\n",
        "\n",
        "print(\"Top 10 cuisine combos:\")\n",
        "print(combo_counts)\n"
      ],
      "metadata": {
        "colab": {
          "base_uri": "https://localhost:8080/"
        },
        "id": "nyyulAxce3Yh",
        "outputId": "e5db43dd-1744-47a4-c4ae-6095b313c40e"
      },
      "execution_count": 22,
      "outputs": [
        {
          "output_type": "stream",
          "name": "stdout",
          "text": [
            "Top 10 cuisine combos:\n",
            "(North Indian,)                       936\n",
            "( Chinese, North Indian)              511\n",
            "(Fast Food,)                          354\n",
            "(Chinese,)                            354\n",
            "( Mughlai, North Indian)              334\n",
            "(Cafe,)                               299\n",
            "( Chinese,  Mughlai, North Indian)    267\n",
            "(Bakery,)                             218\n",
            "( Desserts, Bakery)                   170\n",
            "(Street Food,)                        149\n",
            "Name: Cuisines, dtype: int64\n"
          ]
        }
      ]
    },
    {
      "cell_type": "markdown",
      "source": [
        "Here are some Analysis for above:\n",
        "\n",
        "1. **Importing pandas**: The code starts by importing the pandas library, a powerful tool for data manipulation and analysis.\n",
        "\n",
        "2. **Filling missing values**: The `fillna('')` method is used to replace missing (NaN) values in the 'Cuisines' column of the DataFrame `df` with empty strings.\n",
        "\n",
        "3. **Filtering valid cuisines**: The code then filters out rows where the 'Cuisines' column is not an empty string.\n",
        "\n",
        "4. **Splitting cuisine combinations**: Each entry in the 'Cuisines' column represents a combination of cuisines separated by commas. The `str.split(',')` method is used to split these combinations into lists of individual cuisines.\n",
        "\n",
        "5. **Sorting cuisine lists**: The `sorted` function is applied to each list of cuisines to ensure that the order of cuisines does not affect the counts of cuisine combinations.\n",
        "\n",
        "6. **Converting lists to tuples**: The `apply(tuple)` method is used to convert each sorted list of cuisines into a tuple. Tuples are hashable and can be used as keys in dictionaries.\n",
        "\n",
        "7. **Counting cuisine combinations**: The `value_counts()` method is applied to the Series `cuisine_combos` to count the occurrences of each unique combination of cuisines. The `head(10)` method is used to select only the top 10 most common cuisine combinations.\n",
        "\n",
        "Finally, the code prints out the top 10 cuisine combinations along with their counts:\n",
        "\n",
        "```python\n",
        "print(\"Top 10 cuisine combos:\")\n",
        "print(combo_counts)\n",
        "```"
      ],
      "metadata": {
        "id": "piEmlVuYfBbo"
      }
    },
    {
      "cell_type": "code",
      "source": [
        "Level - 2  Task - 3"
      ],
      "metadata": {
        "id": "43M6L2v5f8SA"
      },
      "execution_count": null,
      "outputs": []
    },
    {
      "cell_type": "code",
      "source": [
        "Task: Geographic Analysis\n",
        "Plot the locations of restaurants on amap using longitude and latitudecoordinates.\n",
        "Identify any patterns or clusters ofrestaurants in specific areas."
      ],
      "metadata": {
        "id": "gQMrd1KAgWgr"
      },
      "execution_count": null,
      "outputs": []
    },
    {
      "cell_type": "code",
      "source": [
        "import pandas as pd\n",
        "import matplotlib.pyplot as plt\n",
        "\n",
        "# Assuming df contains your DataFrame with restaurant data\n",
        "# df = ...\n",
        "\n",
        "# Plotting the locations\n",
        "plt.figure(figsize=(10, 6))\n",
        "plt.scatter(df['Longitude'], df['Latitude'], alpha=0.5, marker='.')\n",
        "plt.title('Restaurant Locations')\n",
        "plt.xlabel('Longitude')\n",
        "plt.ylabel('Latitude')\n",
        "plt.grid(True)\n",
        "plt.show()\n"
      ],
      "metadata": {
        "colab": {
          "base_uri": "https://localhost:8080/",
          "height": 564
        },
        "id": "LVbIi1tBgfLj",
        "outputId": "91108668-6982-4265-817e-ef8fffe21221"
      },
      "execution_count": 23,
      "outputs": [
        {
          "output_type": "display_data",
          "data": {
            "text/plain": [
              "<Figure size 1000x600 with 1 Axes>"
            ],
            "image/png": "[encoded data removed]"
          },
          "metadata": {}
        }
      ]
    },
    {
      "cell_type": "markdown",
      "source": [
        "Here are some Analysis of the plot:\n",
        "\n",
        "1. **Importing Necessary Libraries**: The code starts by importing the required libraries, including pandas for data manipulation and matplotlib.pyplot for plotting.\n",
        "\n",
        "2. **Figure Size**: `plt.figure(figsize=(10, 6))` sets the size of the figure in inches. This line ensures that the plot will have dimensions of 10 inches in width and 6 inches in height.\n",
        "\n",
        "3. **Scatter Plot**: `plt.scatter(df['Longitude'], df['Latitude'], alpha=0.5, marker='.')` creates a scatter plot. It takes longitude values from the 'Longitude' column of the DataFrame `df` for the x-axis and latitude values from the 'Latitude' column for the y-axis. The `alpha` parameter controls the transparency of the points (0.5 means partially transparent), and `marker` specifies the shape of the points ('.' means small dots).\n",
        "\n",
        "4. **Plot Title**: `plt.title('Restaurant Locations')` sets the title of the plot to 'Restaurant Locations'.\n",
        "\n",
        "5. **Axes Labels**: `plt.xlabel('Longitude')` and `plt.ylabel('Latitude')` label the x-axis and y-axis, respectively, with 'Longitude' and 'Latitude' indicating the geographic coordinates of the restaurants.\n",
        "\n",
        "6. **Grid Lines**: `plt.grid(True)` adds grid lines to the plot for better readability. The parameter `True` enables the grid.\n",
        "\n",
        "7. **Displaying the Plot**: `plt.show()` displays the plot on the screen.\n",
        "\n",
        "This plot provides a visual representation of the geographic distribution of restaurants based on their longitude and latitude coordinates. It allows you to observe any spatial patterns or clusters in the distribution of restaurants across the region covered by the dataset."
      ],
      "metadata": {
        "id": "SAJyM8JxiTQT"
      }
    },
    {
      "cell_type": "code",
      "source": [
        "Level -2  Task  - 4"
      ],
      "metadata": {
        "id": "Znd4rnsjij8I"
      },
      "execution_count": null,
      "outputs": []
    },
    {
      "cell_type": "code",
      "source": [
        "Task: Restaurant Chains\n",
        "Identify if there are any restaurant chains present in the dataset.\n",
        "Analyze the ratings and popularity ofdifferent restaurant chains."
      ],
      "metadata": {
        "id": "mDeJGpvMiqsi"
      },
      "execution_count": null,
      "outputs": []
    },
    {
      "cell_type": "code",
      "source": [
        "import pandas as pd\n",
        "\n",
        "# Assuming df contains your DataFrame with restaurant data\n",
        "# df = ...\n",
        "\n",
        "# Group by 'Restaurant Name' to identify restaurant chains\n",
        "restaurant_chains = df.groupby('Restaurant Name')\n",
        "\n",
        "# Calculate mean ratings and total votes for each chain\n",
        "chain_ratings = restaurant_chains['Aggregate rating'].mean()\n",
        "chain_votes = restaurant_chains['Votes'].sum()\n",
        "\n",
        "# Create a DataFrame to store the results\n",
        "chain_analysis = pd.DataFrame({'Mean Rating': chain_ratings, 'Total Votes': chain_votes})\n",
        "\n",
        "# Sort the chains by mean rating or total votes\n",
        "# For example, to sort by mean rating:\n",
        "sorted_chains_by_rating = chain_analysis.sort_values(by='Mean Rating', ascending=False)\n",
        "\n",
        "# To sort by total votes:\n",
        "sorted_chains_by_votes = chain_analysis.sort_values(by='Total Votes', ascending=False)\n",
        "\n",
        "# Display the sorted chains\n",
        "print(\"Top restaurant chains by mean rating:\")\n",
        "print(sorted_chains_by_rating.head(10))\n",
        "\n",
        "print(\"\\nTop restaurant chains by total votes:\")\n",
        "print(sorted_chains_by_votes.head(10))\n"
      ],
      "metadata": {
        "colab": {
          "base_uri": "https://localhost:8080/"
        },
        "id": "3kHlVfcPjFGr",
        "outputId": "f93e6695-7304-4328-f226-c31b4d26585c"
      },
      "execution_count": 24,
      "outputs": [
        {
          "output_type": "stream",
          "name": "stdout",
          "text": [
            "Top restaurant chains by mean rating:\n",
            "                                Mean Rating  Total Votes\n",
            "Restaurant Name                                         \n",
            "Restaurant Mosaic @ The Orient          4.9           85\n",
            "Ministry of Crab                        4.9          203\n",
            "Miann                                   4.9          281\n",
            "Shorts Burger and Shine                 4.9          820\n",
            "Milse                                   4.9          754\n",
            "Yellow Dog Eats                         4.9         1252\n",
            "Duck & Waffle                           4.9          706\n",
            "Gaga Manjero                            4.9           95\n",
            "Mirchi And Mime                         4.9         3244\n",
            "McGuire's Irish Pub & Brewery           4.9         2238\n",
            "\n",
            "Top restaurant chains by total votes:\n",
            "                           Mean Rating  Total Votes\n",
            "Restaurant Name                                    \n",
            "Barbeque Nation               4.353846        28142\n",
            "AB's - Absolute Barbecues     4.825000        13400\n",
            "Toit                          4.800000        10934\n",
            "Big Chill                     4.475000        10853\n",
            "Farzi Cafe                    4.366667        10098\n",
            "Truffles                      3.950000         9682\n",
            "Chili's                       4.580000         8156\n",
            "Hauz Khas Social              4.300000         7931\n",
            "Joey's Pizza                  4.250000         7807\n",
            "Peter Cat                     4.300000         7574\n"
          ]
        }
      ]
    },
    {
      "cell_type": "markdown",
      "source": [
        "Here are some Anaysis of the above:\n",
        "\n",
        "1. **Importing Necessary Libraries**: The code starts by importing the pandas library, which is essential for data manipulation and analysis.\n",
        "\n",
        "2. **Grouping by Restaurant Name**: `df.groupby('Restaurant Name')` groups the DataFrame `df` by the 'Restaurant Name' column. This step is crucial for identifying restaurant chains because it groups together rows with the same restaurant name.\n",
        "\n",
        "3. **Calculating Mean Ratings and Total Votes**: After grouping the data, the code calculates two important metrics for each restaurant chain:\n",
        "   - Mean Rating: The average rating given to the restaurants belonging to each chain.\n",
        "   - Total Votes: The sum of votes received by all restaurants in each chain.\n",
        "\n",
        "4. **Creating a DataFrame**: The calculated mean ratings and total votes are stored in a new DataFrame called `chain_analysis`. This DataFrame will be used to store and manipulate the results of the analysis.\n",
        "\n",
        "5. **Sorting Chains**: The chains are sorted based on either their mean rating or total votes. Two separate DataFrames are created:\n",
        "   - `sorted_chains_by_rating`: Chains sorted in descending order of mean rating.\n",
        "   - `sorted_chains_by_votes`: Chains sorted in descending order of total votes.\n",
        "\n",
        "6. **Displaying Results**: The top restaurant chains are printed for both mean rating and total votes using the `head(10)` method to display only the top 10 chains.\n",
        "\n",
        "7. **Output**: The final output provides insights into the top-performing restaurant chains based on mean rating and total votes. This information can be valuable for understanding the popularity and customer satisfaction levels of different chains in the dataset."
      ],
      "metadata": {
        "id": "BmdxgiEJjZAR"
      }
    },
    {
      "cell_type": "code",
      "source": [
        "Level  - 3 Task  -1"
      ],
      "metadata": {
        "id": "9p_vXeb8jKkT"
      },
      "execution_count": null,
      "outputs": []
    },
    {
      "cell_type": "code",
      "source": [
        "Task: Restaurant Reviews\n",
        "Analyze the text reviews to identify the mostcommon positive and negative keywords.\n",
        "Calculate the average length of reviews andexplore if there is a relationship betweenreview length and rating"
      ],
      "metadata": {
        "id": "UCtId9Y2jyqE"
      },
      "execution_count": null,
      "outputs": []
    },
    {
      "cell_type": "code",
      "source": [
        "import pandas as pd\n",
        "from textblob import TextBlob\n",
        "\n",
        "# Get reviews data\n",
        "reviews = df[['Cuisines', 'Aggregate rating', 'Rating text']]\n",
        "\n",
        "# Extract keywords from reviews\n",
        "reviews['Keywords'] = reviews['Rating text'].str.extract('(\\\\w+)')\n",
        "\n",
        "# Perform sentiment analysis\n",
        "reviews['Sentiment'] = reviews['Rating text'].apply(lambda x: TextBlob(x).sentiment.polarity)\n",
        "\n",
        "# Define positive & negative keywords\n",
        "pos_words = ['excellent', 'delicious', 'loved']\n",
        "neg_words = ['terrible', 'disappointing', 'bad']\n",
        "\n",
        "# Get most common by sentiment\n",
        "pos_reviews = reviews[reviews['Sentiment']>0]\n",
        "pos_keywords = pos_reviews['Keywords'].value_counts().head()\n",
        "\n",
        "neg_reviews = reviews[reviews['Sentiment']<0]\n",
        "neg_keywords = neg_reviews['Keywords'].value_counts().head()\n",
        "\n",
        "# Print most common keywords\n",
        "print(\"Most positive keywords:\")\n",
        "print(pos_keywords)\n",
        "print(\"\\nMost negative keywords:\")\n",
        "print(neg_keywords)\n",
        "\n",
        "# Analyze review length by rating\n",
        "reviews['Review Length'] = reviews['Rating text'].str.len()\n",
        "rev_len_rating = reviews.groupby('Aggregate rating')['Review Length'].mean()\n",
        "print(\"\\nAverage review length by rating:\")\n",
        "print(rev_len_rating)"
      ],
      "metadata": {
        "colab": {
          "base_uri": "https://localhost:8080/"
        },
        "id": "KJRxcwxPt9cj",
        "outputId": "ff3ae51d-d345-4a14-b8b3-a0aa70097b4c"
      },
      "execution_count": 31,
      "outputs": [
        {
          "output_type": "stream",
          "name": "stderr",
          "text": [
            "<ipython-input-31-81e453d46e41>:8: SettingWithCopyWarning: \n",
            "A value is trying to be set on a copy of a slice from a DataFrame.\n",
            "Try using .loc[row_indexer,col_indexer] = value instead\n",
            "\n",
            "See the caveats in the documentation: https://pandas.pydata.org/pandas-docs/stable/user_guide/indexing.html#returning-a-view-versus-a-copy\n",
            "  reviews['Keywords'] = reviews['Rating text'].str.extract('(\\\\w+)')\n"
          ]
        },
        {
          "output_type": "stream",
          "name": "stdout",
          "text": [
            "Most positive keywords:\n",
            "Good         2100\n",
            "Very         1079\n",
            "Excellent     301\n",
            "Name: Keywords, dtype: int64\n",
            "\n",
            "Most negative keywords:\n",
            "Average    3737\n",
            "Poor        186\n",
            "Name: Keywords, dtype: int64\n",
            "\n",
            "Average review length by rating:\n",
            "Aggregate rating\n",
            "0.0    9.0\n",
            "1.8    4.0\n",
            "1.9    4.0\n",
            "2.0    4.0\n",
            "2.1    4.0\n",
            "2.2    4.0\n",
            "2.3    4.0\n",
            "2.4    4.0\n",
            "2.5    7.0\n",
            "2.6    7.0\n",
            "2.7    7.0\n",
            "2.8    7.0\n",
            "2.9    7.0\n",
            "3.0    7.0\n",
            "3.1    7.0\n",
            "3.2    7.0\n",
            "3.3    7.0\n",
            "3.4    7.0\n",
            "3.5    4.0\n",
            "3.6    4.0\n",
            "3.7    4.0\n",
            "3.8    4.0\n",
            "3.9    4.0\n",
            "4.0    9.0\n",
            "4.1    9.0\n",
            "4.2    9.0\n",
            "4.3    9.0\n",
            "4.4    9.0\n",
            "4.5    9.0\n",
            "4.6    9.0\n",
            "4.7    9.0\n",
            "4.8    9.0\n",
            "4.9    9.0\n",
            "Name: Review Length, dtype: float64\n"
          ]
        },
        {
          "output_type": "stream",
          "name": "stderr",
          "text": [
            "<ipython-input-31-81e453d46e41>:11: SettingWithCopyWarning: \n",
            "A value is trying to be set on a copy of a slice from a DataFrame.\n",
            "Try using .loc[row_indexer,col_indexer] = value instead\n",
            "\n",
            "See the caveats in the documentation: https://pandas.pydata.org/pandas-docs/stable/user_guide/indexing.html#returning-a-view-versus-a-copy\n",
            "  reviews['Sentiment'] = reviews['Rating text'].apply(lambda x: TextBlob(x).sentiment.polarity)\n",
            "<ipython-input-31-81e453d46e41>:31: SettingWithCopyWarning: \n",
            "A value is trying to be set on a copy of a slice from a DataFrame.\n",
            "Try using .loc[row_indexer,col_indexer] = value instead\n",
            "\n",
            "See the caveats in the documentation: https://pandas.pydata.org/pandas-docs/stable/user_guide/indexing.html#returning-a-view-versus-a-copy\n",
            "  reviews['Review Length'] = reviews['Rating text'].str.len()\n"
          ]
        }
      ]
    },
    {
      "cell_type": "markdown",
      "source": [
        "Here  are some Analysis  of the above\n",
        "\n",
        "1. Import pandas and textblob - For data analysis and NLP\n",
        "\n",
        "2. Extract reviews data - Get relevant columns like cuisine, rating, text into a dataframe\n",
        "\n",
        "3. Extract keywords from text - Use a regex to extract words from review text into separate column\n",
        "\n",
        "4. Sentiment analysis - Apply a lambda function with TextBlob to get polarity sentiment scores  \n",
        "\n",
        "5. Define keywords lists - Manually specify positive and negative keywords to analyze\n",
        "\n",
        "6. Filter reviews by sentiment - Create separate dataframes for positive and negative sentiment reviews\n",
        "\n",
        "7. Count keyword frequencies - Use pandas .value_counts() to get top keywords by polarity type  \n",
        "\n",
        "8. Print most common keywords - Output the top positive and negative keywords separately\n",
        "\n",
        "9. Calculate review length - Get length of each review text using string processing\n",
        "\n",
        "10. Average length by rating - Groupby rating and aggregate mean lengths to analyze relationship\n",
        "\n",
        "The main steps are extracting NLP features from text, transformations like filtering, groupby, aggregations like value_counts and mean, and custom analysis like keyword frequencies and correlations.\n"
      ],
      "metadata": {
        "id": "vf8-lKWaub2l"
      }
    },
    {
      "cell_type": "code",
      "source": [
        "Level  - 3 Task  - 2"
      ],
      "metadata": {
        "id": "MmuvP8QWlnwy"
      },
      "execution_count": null,
      "outputs": []
    },
    {
      "cell_type": "code",
      "source": [
        "Task: Votes Analysis\n",
        "Identify the restaurants with the highest and lowest number of votes.\n",
        "Analyze if there is a correlation between the number of votes and the rating of arestaurant."
      ],
      "metadata": {
        "id": "bSFVEJm5mA76"
      },
      "execution_count": null,
      "outputs": []
    },
    {
      "cell_type": "code",
      "source": [
        "import pandas as pd\n",
        "\n",
        "# Get relevant columns\n",
        "data = df[['Restaurant Name', 'Votes', 'Aggregate rating']]\n",
        "\n",
        "# Restaurant with most/least votes\n",
        "most_votes = data.sort_values('Votes', ascending=False).head(1)\n",
        "least_votes = data.sort_values('Votes').head(1)\n",
        "\n",
        "print(\"Most votes:\")\n",
        "print(most_votes)\n",
        "print(\"\\nLeast votes:\")\n",
        "print(least_votes)\n",
        "\n",
        "# Correlation between votes and rating\n",
        "import matplotlib.pyplot as plt\n",
        "plt.scatter(data['Votes'], data['Aggregate rating'])\n",
        "plt.title(\"Votes vs Rating Correlation\")\n",
        "plt.xlabel(\"# of Votes\")\n",
        "plt.ylabel(\"Rating\")\n",
        "plt.show()\n",
        "\n",
        "print(\"\\nCorrelation coefficient:\")\n",
        "print(data[['Votes', 'Aggregate rating']].corr())"
      ],
      "metadata": {
        "colab": {
          "base_uri": "https://localhost:8080/",
          "height": 680
        },
        "id": "4OL4-vgImK5i",
        "outputId": "683e6218-2eee-430b-8ad0-16a11048a547"
      },
      "execution_count": 32,
      "outputs": [
        {
          "output_type": "stream",
          "name": "stdout",
          "text": [
            "Most votes:\n",
            "    Restaurant Name  Votes  Aggregate rating\n",
            "728            Toit  10934               4.8\n",
            "\n",
            "Least votes:\n",
            "          Restaurant Name  Votes  Aggregate rating\n",
            "5799  Khalsa Eating Point      0               0.0\n"
          ]
        },
        {
          "output_type": "display_data",
          "data": {
            "text/plain": [
              "<Figure size 640x480 with 1 Axes>"
            ],
            "image/png": "[encoded data removed]"
          },
          "metadata": {}
        },
        {
          "output_type": "stream",
          "name": "stdout",
          "text": [
            "\n",
            "Correlation coefficient:\n",
            "                     Votes  Aggregate rating\n",
            "Votes             1.000000          0.313691\n",
            "Aggregate rating  0.313691          1.000000\n"
          ]
        }
      ]
    },
    {
      "cell_type": "markdown",
      "source": [
        "Here are some Analsis of the above:\n",
        "\n",
        "1. Import Pandas and Matplotlib libraries for data analysis and visualization.\n",
        "\n",
        "2. Extract relevant columns from the dataframe - 'Restaurant Name', 'Votes', 'Aggregate rating'.\n",
        "\n",
        "3. Sort by 'Votes' in descending order and get the top 1 row to find restaurant with most votes.\n",
        "\n",
        "4. Sort by 'Votes'  in ascending order and get the top 1 row to find restaurant with least votes.\n",
        "\n",
        "5. Print the restaurants with most and least votes for analysis.\n",
        "\n",
        "6. Use Matplotlib scatter plot to visually analyze correlation between the number of votes and ratings for all restaurants.\n",
        "\n",
        "7. Calculate the Pearson correlation coefficient between the 'Votes' and 'Aggregate rating' columns to quantify correlation using Pandas .corr() method on the data.\n",
        "\n",
        "8. Print the correlation coefficient value for interpretation - a value close to 1 implies strong positive correlation.\n",
        "\n",
        "In summary, it uses sorting, dataframe slicing, visualization and correlation analysis to effectively break down and examine the relationship between number of votes and restaurant ratings."
      ],
      "metadata": {
        "id": "MEmAgzcSwurj"
      }
    },
    {
      "cell_type": "code",
      "source": [
        "Level  - 3  Task  - 3"
      ],
      "metadata": {
        "id": "mtMudiZomM_7"
      },
      "execution_count": null,
      "outputs": []
    },
    {
      "cell_type": "code",
      "source": [
        "Task: Price Range vs. Online Delivery and Table Booking\n",
        "Analyze if there is a relationship between the price range and the availability of online delivery and table booking.\n",
        "Determine if higher-priced restaurants aremore likely to offer these services."
      ],
      "metadata": {
        "id": "L7UPlnR3meTK"
      },
      "execution_count": null,
      "outputs": []
    },
    {
      "cell_type": "code",
      "source": [
        "import pandas as pd\n",
        "import matplotlib.pyplot as plt\n",
        "\n",
        "# Get relevant columns\n",
        "data = df[['Price range', 'Has Online delivery', 'Has Table booking' ]]\n",
        "\n",
        "# Pivot the dataset\n",
        "pivot = data.pivot_table(index='Price range',\n",
        "                    columns='Has Online delivery',\n",
        "                    values='Has Table booking',\n",
        "                    aggfunc='count')\n",
        "\n",
        "# Plot pivot table\n",
        "pivot.plot.bar()\n",
        "plt.xlabel('Price Range')\n",
        "plt.ylabel('Count')\n",
        "plt.title('Price Range vs Delivery/Table Booking')\n",
        "plt.show()\n",
        "\n",
        "# Compare True counts across price ranges\n",
        "import pandas as pd\n",
        "\n",
        "# Rest of analysis code\n",
        "\n",
        "pivot = data.pivot_table(index='Price range',\n",
        "                          columns='Has Online delivery',\n",
        "                          values='Has Table booking',\n",
        "                          aggfunc='count')\n",
        "\n",
        "# Plot pivot table\n",
        "pivot.plot.bar()\n",
        "plt.show()\n",
        "\n",
        "print(pivot['Yes'].sort_index())"
      ],
      "metadata": {
        "colab": {
          "base_uri": "https://localhost:8080/",
          "height": 998
        },
        "id": "lL7XGzadxbmD",
        "outputId": "b675379e-5bfa-4507-aab1-afad202eb5f9"
      },
      "execution_count": 34,
      "outputs": [
        {
          "output_type": "display_data",
          "data": {
            "text/plain": [
              "<Figure size 640x480 with 1 Axes>"
            ],
            "image/png": "[encoded data removed]"
          },
          "metadata": {}
        },
        {
          "output_type": "display_data",
          "data": {
            "text/plain": [
              "<Figure size 640x480 with 1 Axes>"
            ],
            "image/png": "[encoded data removed]"
          },
          "metadata": {}
        },
        {
          "output_type": "stream",
          "name": "stdout",
          "text": [
            "Price range\n",
            "1     701\n",
            "2    1286\n",
            "3     411\n",
            "4      53\n",
            "Name: Yes, dtype: int64\n"
          ]
        }
      ]
    },
    {
      "cell_type": "markdown",
      "source": [
        "Here are some Analysis of the above:\n",
        "\n",
        "1. Import pandas and matplotlib for data analysis and visualization.\n",
        "\n",
        "2. Extract relevant columns from dataframe into a variable - price range, delivery availability and table booking availability.\n",
        "\n",
        "3. Pivot the table to reshape data for analysis - index on price range column and spread delivery and table booking into separate columns.\n",
        "\n",
        "4. Aggregate on table booking by count to get number of restaurants per price range and availability options.\n",
        "\n",
        "5. Plot a bar chart with x-axis as price range and bar heights representing counts per category.\n",
        "\n",
        "6. Access the 'Yes' column from pivot table to get table booking availability counts.\n",
        "\n",
        "7. Sort the index (price ranges) to clearly compare higher vs lower price ranges and their counts.\n",
        "\n",
        "8. Analyze if more expensive restaurants are more likely to offer services like delivery and table booking.\n",
        "\n",
        "In summary, it pivots the data, plots visualization for analysis and performs sorting, indexing on aggregated columns to derive insights effectively leveraging pandas and matplotlib.\n",
        "\n"
      ],
      "metadata": {
        "id": "msitdsZXx8_l"
      }
    }
  ]
}